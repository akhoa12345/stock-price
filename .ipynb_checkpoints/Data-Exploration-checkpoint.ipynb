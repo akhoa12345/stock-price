{
 "cells": [
  {
   "cell_type": "code",
   "execution_count": 2,
   "id": "106b7bfc-978f-4b3c-ba0a-4dfb59012abe",
   "metadata": {
    "tags": []
   },
   "outputs": [],
   "source": [
    "import requests\n",
    "import json\n",
    "from datetime import datetime,timedelta\n",
    "import pandas as pd\n",
    "import numpy as np\n",
    "import datetime as dt"
   ]
  },
  {
   "cell_type": "markdown",
   "id": "fc2372b7-b0e2-4fb0-a8f1-d873aa126034",
   "metadata": {},
   "source": [
    "# B. Khám phá dữ liệu"
   ]
  },
  {
   "cell_type": "markdown",
   "id": "40166cfc-2fab-4b4f-bf08-605acdf9339e",
   "metadata": {},
   "source": [
    "## 1. Đọc dữ liệu, tính số dòng và số cột"
   ]
  },
  {
   "cell_type": "markdown",
   "id": "4797d4aa-cba9-47ab-8523-843a8920cd16",
   "metadata": {},
   "source": [
    "Đọc dữ liệu từ file `data.csv` và in ra 5 dòng đầu tiên"
   ]
  },
  {
   "cell_type": "code",
   "execution_count": 3,
   "id": "f569cc18-6df1-4e45-a316-e1eeaa00b070",
   "metadata": {
    "tags": []
   },
   "outputs": [
    {
     "data": {
      "text/html": [
       "<div>\n",
       "<style scoped>\n",
       "    .dataframe tbody tr th:only-of-type {\n",
       "        vertical-align: middle;\n",
       "    }\n",
       "\n",
       "    .dataframe tbody tr th {\n",
       "        vertical-align: top;\n",
       "    }\n",
       "\n",
       "    .dataframe thead th {\n",
       "        text-align: right;\n",
       "    }\n",
       "</style>\n",
       "<table border=\"1\" class=\"dataframe\">\n",
       "  <thead>\n",
       "    <tr style=\"text-align: right;\">\n",
       "      <th></th>\n",
       "      <th>Ngày</th>\n",
       "      <th>Giá điều chỉnh</th>\n",
       "      <th>Giá đóng cửa</th>\n",
       "      <th>Thay đổi</th>\n",
       "      <th>Khối lượng khớp lệnh</th>\n",
       "      <th>Giá trị khớp lệnh</th>\n",
       "      <th>KL thoả thuận</th>\n",
       "      <th>GT thoả thuận</th>\n",
       "      <th>Giá mở cửa</th>\n",
       "      <th>Giá cao nhất</th>\n",
       "      <th>Giá thấp nhất</th>\n",
       "    </tr>\n",
       "  </thead>\n",
       "  <tbody>\n",
       "    <tr>\n",
       "      <th>0</th>\n",
       "      <td>14/12/2023</td>\n",
       "      <td>96.2</td>\n",
       "      <td>96.2</td>\n",
       "      <td>1(1.05 %)</td>\n",
       "      <td>1712300</td>\n",
       "      <td>163967000000</td>\n",
       "      <td>4234467</td>\n",
       "      <td>430928431600</td>\n",
       "      <td>95.8</td>\n",
       "      <td>96.4</td>\n",
       "      <td>95.2</td>\n",
       "    </tr>\n",
       "    <tr>\n",
       "      <th>1</th>\n",
       "      <td>13/12/2023</td>\n",
       "      <td>95.2</td>\n",
       "      <td>95.2</td>\n",
       "      <td>-1.6(-1.65 %)</td>\n",
       "      <td>2148100</td>\n",
       "      <td>206460000000</td>\n",
       "      <td>2545369</td>\n",
       "      <td>263445691500</td>\n",
       "      <td>97.4</td>\n",
       "      <td>97.4</td>\n",
       "      <td>95.2</td>\n",
       "    </tr>\n",
       "    <tr>\n",
       "      <th>2</th>\n",
       "      <td>12/12/2023</td>\n",
       "      <td>96.8</td>\n",
       "      <td>96.8</td>\n",
       "      <td>1.8(1.89 %)</td>\n",
       "      <td>4084900</td>\n",
       "      <td>393398000000</td>\n",
       "      <td>1193088</td>\n",
       "      <td>120796900800</td>\n",
       "      <td>95.4</td>\n",
       "      <td>96.8</td>\n",
       "      <td>95.3</td>\n",
       "    </tr>\n",
       "    <tr>\n",
       "      <th>3</th>\n",
       "      <td>11/12/2023</td>\n",
       "      <td>95.0</td>\n",
       "      <td>95.0</td>\n",
       "      <td>0.8(0.85 %)</td>\n",
       "      <td>1564500</td>\n",
       "      <td>148856000000</td>\n",
       "      <td>257300</td>\n",
       "      <td>25910110000</td>\n",
       "      <td>95.5</td>\n",
       "      <td>95.7</td>\n",
       "      <td>94.6</td>\n",
       "    </tr>\n",
       "    <tr>\n",
       "      <th>4</th>\n",
       "      <td>08/12/2023</td>\n",
       "      <td>94.2</td>\n",
       "      <td>94.2</td>\n",
       "      <td>-0.1(-0.11 %)</td>\n",
       "      <td>1745800</td>\n",
       "      <td>164616000000</td>\n",
       "      <td>218370</td>\n",
       "      <td>21885443000</td>\n",
       "      <td>94.3</td>\n",
       "      <td>95.1</td>\n",
       "      <td>93.5</td>\n",
       "    </tr>\n",
       "  </tbody>\n",
       "</table>\n",
       "</div>"
      ],
      "text/plain": [
       "         Ngày  Giá điều chỉnh  Giá đóng cửa       Thay đổi  \\\n",
       "0  14/12/2023            96.2          96.2      1(1.05 %)   \n",
       "1  13/12/2023            95.2          95.2  -1.6(-1.65 %)   \n",
       "2  12/12/2023            96.8          96.8    1.8(1.89 %)   \n",
       "3  11/12/2023            95.0          95.0    0.8(0.85 %)   \n",
       "4  08/12/2023            94.2          94.2  -0.1(-0.11 %)   \n",
       "\n",
       "   Khối lượng khớp lệnh  Giá trị khớp lệnh  KL thoả thuận  GT thoả thuận  \\\n",
       "0               1712300       163967000000        4234467   430928431600   \n",
       "1               2148100       206460000000        2545369   263445691500   \n",
       "2               4084900       393398000000        1193088   120796900800   \n",
       "3               1564500       148856000000         257300    25910110000   \n",
       "4               1745800       164616000000         218370    21885443000   \n",
       "\n",
       "   Giá mở cửa  Giá cao nhất  Giá thấp nhất  \n",
       "0        95.8          96.4           95.2  \n",
       "1        97.4          97.4           95.2  \n",
       "2        95.4          96.8           95.3  \n",
       "3        95.5          95.7           94.6  \n",
       "4        94.3          95.1           93.5  "
      ]
     },
     "execution_count": 3,
     "metadata": {},
     "output_type": "execute_result"
    }
   ],
   "source": [
    "df = pd.read_csv('data.csv')\n",
    "df.head()"
   ]
  },
  {
   "cell_type": "markdown",
   "id": "ec70e7a0-e94b-40ae-a755-4b65510eaaad",
   "metadata": {},
   "source": [
    "Tính số dòng, số cột và lưu vào 2 biến `num_rows` và `num_cols`"
   ]
  },
  {
   "cell_type": "code",
   "execution_count": 4,
   "id": "df6c20c3-b164-436f-9119-151c4d7e0927",
   "metadata": {
    "tags": []
   },
   "outputs": [
    {
     "name": "stdout",
     "output_type": "stream",
     "text": [
      "Number of rows: 1736\n",
      "Number of columns: 11\n"
     ]
    }
   ],
   "source": [
    "num_rows, num_cols = df.shape\n",
    "print(f'Number of rows: {num_rows}\\nNumber of columns: {num_cols}')"
   ]
  },
  {
   "cell_type": "markdown",
   "id": "203fbf3d-1d35-4aa0-afe8-741b349ec62a",
   "metadata": {},
   "source": [
    "## 2. Dữ liệu có các dòng bị lặp không?"
   ]
  },
  {
   "cell_type": "markdown",
   "id": "39303770-18e2-4bc0-b13f-dfa991a4281a",
   "metadata": {},
   "source": [
    "Ta kiểm tra xem có dòng nào bị lặp không bằng cách sử dụng các phương thức `duplicated()` và `any()` và lưu kết quả vào biến `have_duplicated_rows`. Biến này sẽ có giá trị True nếu dữ liệu có các dòng bị lặp và có giá trị False nếu không có dòng bị lặp"
   ]
  },
  {
   "cell_type": "code",
   "execution_count": 5,
   "id": "b7038918-4047-44fb-bb6d-93f809ab4a24",
   "metadata": {
    "tags": []
   },
   "outputs": [
    {
     "data": {
      "text/plain": [
       "False"
      ]
     },
     "execution_count": 5,
     "metadata": {},
     "output_type": "execute_result"
    }
   ],
   "source": [
    "have_duplicate_rows = df.duplicated().any()\n",
    "have_duplicate_rows"
   ]
  },
  {
   "cell_type": "markdown",
   "id": "059b89b9-9540-48a7-9b20-c69369cda930",
   "metadata": {},
   "source": [
    "Như vậy, dữ liệu không có dòng nào bị lặp lặp "
   ]
  },
  {
   "cell_type": "markdown",
   "id": "29fd9cda-d1be-46a2-98c9-11202d3c3737",
   "metadata": {},
   "source": [
    "## 3. Tỉ lệ giá trị thiếu của từng cột"
   ]
  },
  {
   "cell_type": "markdown",
   "id": "dfc69a1c-486f-410e-968c-cd092d8b2b60",
   "metadata": {},
   "source": [
    "Ta tính tỉ lệ giá trị thiếu của từng cột. Đầu tiên ta dùng `isnull()` để biết được các giá trị thiếu, sau đó dùng `sum()` để tính tổng số giá trị thiếu theo từng cột. Cuối cùng ta chia cho tổng số dòng để tính tỉ lệ giá trị thiếu của mỗi cột và lưu kết quả vào biến `missing_ratio`"
   ]
  },
  {
   "cell_type": "code",
   "execution_count": 6,
   "id": "683b81bc-9a09-435b-b6f3-49195ed2b3db",
   "metadata": {
    "tags": []
   },
   "outputs": [
    {
     "data": {
      "text/plain": [
       "Ngày                    0.0\n",
       "Giá điều chỉnh          0.0\n",
       "Giá đóng cửa            0.0\n",
       "Thay đổi                0.0\n",
       "Khối lượng khớp lệnh    0.0\n",
       "Giá trị khớp lệnh       0.0\n",
       "KL thoả thuận           0.0\n",
       "GT thoả thuận           0.0\n",
       "Giá mở cửa              0.0\n",
       "Giá cao nhất            0.0\n",
       "Giá thấp nhất           0.0\n",
       "dtype: float64"
      ]
     },
     "execution_count": 6,
     "metadata": {},
     "output_type": "execute_result"
    }
   ],
   "source": [
    "missing_ratio = df.isnull().sum()\n",
    "missing_ratio = missing_ratio / num_rows\n",
    "missing_ratio"
   ]
  },
  {
   "cell_type": "markdown",
   "id": "47cf65f5-2607-46f0-81fa-eff221d27d50",
   "metadata": {},
   "source": [
    "Có thể thấy, tất cả những cột đều có tỉ lệ giá trị thiếu 0%"
   ]
  },
  {
   "cell_type": "markdown",
   "id": "32972ce4-fcae-4360-b5a3-fb800609ad87",
   "metadata": {},
   "source": [
    "## 4. Mỗi cột có ý nghĩa gì?"
   ]
  },
  {
   "cell_type": "markdown",
   "id": "c9456cdf-550a-49ef-93ff-85807c215cac",
   "metadata": {},
   "source": [
    "- Ngày (Date): Đây là ngày giao dịch tương ứng với các thông tin khác trong hàng tương ứng.\n",
    "\n",
    "- Giá điều chỉnh (Adjustment Price): Đây có thể là giá đóng cửa đã được điều chỉnh để tính đến các yếu tố như cổ tức, phát hành mới, chia cổ tức, vv.\n",
    "\n",
    "- Giá đóng cửa (Closing Price): Là giá cuối cùng mà chứng khoán được giao dịch trong ngày.\n",
    "\n",
    "- Thay đổi (Change): Là sự chênh lệch giữa giá đóng cửa ngày hiện tại và ngày trước đó.\n",
    "\n",
    "- Khối lượng khớp lệnh (Volume): Là tổng số cổ phiếu hoặc hợp đồng tài chính đã được mua và bán trong ngày.\n",
    "\n",
    "- Giá trị khớp lệnh (Value): Là tổng giá trị của các giao dịch trong ngày.\n",
    "\n",
    "- KL thoả thuận (Negotiated Volume): Là khối lượng cổ phiếu hoặc hợp đồng tài chính đã được thoả thuận giữa các bên mua và bán ngoài thị trường chính.\n",
    "\n",
    "- GT thoả thuận (Negotiated Value): Là giá trị của các thoả thuận ngoại trên thị trường chính.\n",
    "\n",
    "- Giá mở cửa (Open Price): Là giá mà chứng khoán mở ra trong ngày giao dịch.\n",
    "\n",
    "- Giá cao nhất (High Price): Là giá cao nhất mà chứng khoán đã đạt được trong ngày.\n",
    "\n",
    "- Giá thấp nhất (Low Price): Là giá thấp nhất mà chứng khoán đã đạt được trong ngày."
   ]
  },
  {
   "cell_type": "markdown",
   "id": "f4d19e34-a25f-487f-801e-a8f1441cfdf8",
   "metadata": {},
   "source": [
    "### Thống kê mô tả của từng cột"
   ]
  },
  {
   "cell_type": "markdown",
   "id": "e84e893c-5233-48a1-a7e1-be6fbf5caa1b",
   "metadata": {},
   "source": [
    "Tính các giá trị thống kê mô tả của các cột numeric bằng phương thức `describe()`"
   ]
  },
  {
   "cell_type": "code",
   "execution_count": 7,
   "id": "f42d44aa-a238-42e2-b13c-1f02e4723000",
   "metadata": {
    "tags": []
   },
   "outputs": [
    {
     "data": {
      "text/html": [
       "<div>\n",
       "<style scoped>\n",
       "    .dataframe tbody tr th:only-of-type {\n",
       "        vertical-align: middle;\n",
       "    }\n",
       "\n",
       "    .dataframe tbody tr th {\n",
       "        vertical-align: top;\n",
       "    }\n",
       "\n",
       "    .dataframe thead th {\n",
       "        text-align: right;\n",
       "    }\n",
       "</style>\n",
       "<table border=\"1\" class=\"dataframe\">\n",
       "  <thead>\n",
       "    <tr style=\"text-align: right;\">\n",
       "      <th></th>\n",
       "      <th>Giá điều chỉnh</th>\n",
       "      <th>Giá đóng cửa</th>\n",
       "      <th>Khối lượng khớp lệnh</th>\n",
       "      <th>Giá trị khớp lệnh</th>\n",
       "      <th>KL thoả thuận</th>\n",
       "      <th>GT thoả thuận</th>\n",
       "      <th>Giá mở cửa</th>\n",
       "      <th>Giá cao nhất</th>\n",
       "      <th>Giá thấp nhất</th>\n",
       "    </tr>\n",
       "  </thead>\n",
       "  <tbody>\n",
       "    <tr>\n",
       "      <th>count</th>\n",
       "      <td>1736.000000</td>\n",
       "      <td>1736.000000</td>\n",
       "      <td>1.736000e+03</td>\n",
       "      <td>1.736000e+03</td>\n",
       "      <td>1.736000e+03</td>\n",
       "      <td>1.736000e+03</td>\n",
       "      <td>1736.000000</td>\n",
       "      <td>1736.000000</td>\n",
       "      <td>1736.000000</td>\n",
       "    </tr>\n",
       "    <tr>\n",
       "      <th>mean</th>\n",
       "      <td>41.444176</td>\n",
       "      <td>65.554407</td>\n",
       "      <td>1.616091e+06</td>\n",
       "      <td>1.133644e+11</td>\n",
       "      <td>3.977937e+05</td>\n",
       "      <td>3.140188e+10</td>\n",
       "      <td>65.527016</td>\n",
       "      <td>66.266647</td>\n",
       "      <td>64.847523</td>\n",
       "    </tr>\n",
       "    <tr>\n",
       "      <th>std</th>\n",
       "      <td>24.522106</td>\n",
       "      <td>19.883550</td>\n",
       "      <td>1.085479e+06</td>\n",
       "      <td>9.786929e+10</td>\n",
       "      <td>8.843815e+05</td>\n",
       "      <td>7.093146e+10</td>\n",
       "      <td>19.876956</td>\n",
       "      <td>20.159137</td>\n",
       "      <td>19.596897</td>\n",
       "    </tr>\n",
       "    <tr>\n",
       "      <th>min</th>\n",
       "      <td>13.060000</td>\n",
       "      <td>38.800000</td>\n",
       "      <td>1.414800e+05</td>\n",
       "      <td>6.016000e+09</td>\n",
       "      <td>0.000000e+00</td>\n",
       "      <td>0.000000e+00</td>\n",
       "      <td>38.800000</td>\n",
       "      <td>39.650000</td>\n",
       "      <td>38.500000</td>\n",
       "    </tr>\n",
       "    <tr>\n",
       "      <th>25%</th>\n",
       "      <td>19.980000</td>\n",
       "      <td>47.587500</td>\n",
       "      <td>8.388600e+05</td>\n",
       "      <td>4.671875e+10</td>\n",
       "      <td>0.000000e+00</td>\n",
       "      <td>0.000000e+00</td>\n",
       "      <td>47.500000</td>\n",
       "      <td>48.000000</td>\n",
       "      <td>47.200000</td>\n",
       "    </tr>\n",
       "    <tr>\n",
       "      <th>50%</th>\n",
       "      <td>28.430000</td>\n",
       "      <td>57.600000</td>\n",
       "      <td>1.328310e+06</td>\n",
       "      <td>8.463600e+10</td>\n",
       "      <td>7.045000e+04</td>\n",
       "      <td>4.463660e+09</td>\n",
       "      <td>57.650000</td>\n",
       "      <td>58.150000</td>\n",
       "      <td>57.100000</td>\n",
       "    </tr>\n",
       "    <tr>\n",
       "      <th>75%</th>\n",
       "      <td>65.880000</td>\n",
       "      <td>83.825000</td>\n",
       "      <td>2.100985e+06</td>\n",
       "      <td>1.491398e+11</td>\n",
       "      <td>4.247450e+05</td>\n",
       "      <td>3.224118e+10</td>\n",
       "      <td>84.000000</td>\n",
       "      <td>84.600000</td>\n",
       "      <td>83.100000</td>\n",
       "    </tr>\n",
       "    <tr>\n",
       "      <th>max</th>\n",
       "      <td>99.000000</td>\n",
       "      <td>116.600000</td>\n",
       "      <td>8.399400e+06</td>\n",
       "      <td>8.469180e+11</td>\n",
       "      <td>9.349360e+06</td>\n",
       "      <td>1.016416e+12</td>\n",
       "      <td>116.500000</td>\n",
       "      <td>118.900000</td>\n",
       "      <td>115.200000</td>\n",
       "    </tr>\n",
       "  </tbody>\n",
       "</table>\n",
       "</div>"
      ],
      "text/plain": [
       "       Giá điều chỉnh  Giá đóng cửa  Khối lượng khớp lệnh  Giá trị khớp lệnh  \\\n",
       "count     1736.000000   1736.000000          1.736000e+03       1.736000e+03   \n",
       "mean        41.444176     65.554407          1.616091e+06       1.133644e+11   \n",
       "std         24.522106     19.883550          1.085479e+06       9.786929e+10   \n",
       "min         13.060000     38.800000          1.414800e+05       6.016000e+09   \n",
       "25%         19.980000     47.587500          8.388600e+05       4.671875e+10   \n",
       "50%         28.430000     57.600000          1.328310e+06       8.463600e+10   \n",
       "75%         65.880000     83.825000          2.100985e+06       1.491398e+11   \n",
       "max         99.000000    116.600000          8.399400e+06       8.469180e+11   \n",
       "\n",
       "       KL thoả thuận  GT thoả thuận   Giá mở cửa  Giá cao nhất  Giá thấp nhất  \n",
       "count   1.736000e+03   1.736000e+03  1736.000000   1736.000000    1736.000000  \n",
       "mean    3.977937e+05   3.140188e+10    65.527016     66.266647      64.847523  \n",
       "std     8.843815e+05   7.093146e+10    19.876956     20.159137      19.596897  \n",
       "min     0.000000e+00   0.000000e+00    38.800000     39.650000      38.500000  \n",
       "25%     0.000000e+00   0.000000e+00    47.500000     48.000000      47.200000  \n",
       "50%     7.045000e+04   4.463660e+09    57.650000     58.150000      57.100000  \n",
       "75%     4.247450e+05   3.224118e+10    84.000000     84.600000      83.100000  \n",
       "max     9.349360e+06   1.016416e+12   116.500000    118.900000     115.200000  "
      ]
     },
     "execution_count": 7,
     "metadata": {},
     "output_type": "execute_result"
    }
   ],
   "source": [
    "df.describe()"
   ]
  },
  {
   "cell_type": "markdown",
   "id": "7d584645-bbfd-4f0e-b493-996b03536fdf",
   "metadata": {},
   "source": [
    "## 5. Mỗi cột hiện đang có kiểu dữ liệu gì? Có cột nào có kiểu dữ liệu chưa phù hợp để có thể xử lý tiếp hay không?"
   ]
  },
  {
   "cell_type": "code",
   "execution_count": 8,
   "id": "0cf7b4ef-0030-486e-8d43-266fe571c744",
   "metadata": {
    "tags": []
   },
   "outputs": [
    {
     "name": "stdout",
     "output_type": "stream",
     "text": [
      "<class 'pandas.core.frame.DataFrame'>\n",
      "RangeIndex: 1736 entries, 0 to 1735\n",
      "Data columns (total 11 columns):\n",
      " #   Column                Non-Null Count  Dtype  \n",
      "---  ------                --------------  -----  \n",
      " 0   Ngày                  1736 non-null   object \n",
      " 1   Giá điều chỉnh        1736 non-null   float64\n",
      " 2   Giá đóng cửa          1736 non-null   float64\n",
      " 3   Thay đổi              1736 non-null   object \n",
      " 4   Khối lượng khớp lệnh  1736 non-null   int64  \n",
      " 5   Giá trị khớp lệnh     1736 non-null   int64  \n",
      " 6   KL thoả thuận         1736 non-null   int64  \n",
      " 7   GT thoả thuận         1736 non-null   int64  \n",
      " 8   Giá mở cửa            1736 non-null   float64\n",
      " 9   Giá cao nhất          1736 non-null   float64\n",
      " 10  Giá thấp nhất         1736 non-null   float64\n",
      "dtypes: float64(5), int64(4), object(2)\n",
      "memory usage: 149.3+ KB\n"
     ]
    }
   ],
   "source": [
    "df.info()"
   ]
  },
  {
   "cell_type": "code",
   "execution_count": 9,
   "id": "85ea4169-31f3-484d-b58b-fbc66abf6076",
   "metadata": {
    "tags": []
   },
   "outputs": [
    {
     "data": {
      "text/html": [
       "<div>\n",
       "<style scoped>\n",
       "    .dataframe tbody tr th:only-of-type {\n",
       "        vertical-align: middle;\n",
       "    }\n",
       "\n",
       "    .dataframe tbody tr th {\n",
       "        vertical-align: top;\n",
       "    }\n",
       "\n",
       "    .dataframe thead th {\n",
       "        text-align: right;\n",
       "    }\n",
       "</style>\n",
       "<table border=\"1\" class=\"dataframe\">\n",
       "  <thead>\n",
       "    <tr style=\"text-align: right;\">\n",
       "      <th></th>\n",
       "      <th>Ngày</th>\n",
       "      <th>Giá điều chỉnh</th>\n",
       "      <th>Giá đóng cửa</th>\n",
       "      <th>Thay đổi</th>\n",
       "      <th>Khối lượng khớp lệnh</th>\n",
       "      <th>Giá trị khớp lệnh</th>\n",
       "      <th>KL thoả thuận</th>\n",
       "      <th>GT thoả thuận</th>\n",
       "      <th>Giá mở cửa</th>\n",
       "      <th>Giá cao nhất</th>\n",
       "      <th>Giá thấp nhất</th>\n",
       "    </tr>\n",
       "  </thead>\n",
       "  <tbody>\n",
       "    <tr>\n",
       "      <th>0</th>\n",
       "      <td>14/12/2023</td>\n",
       "      <td>96.2</td>\n",
       "      <td>96.2</td>\n",
       "      <td>1(1.05 %)</td>\n",
       "      <td>1712300</td>\n",
       "      <td>163967000000</td>\n",
       "      <td>4234467</td>\n",
       "      <td>430928431600</td>\n",
       "      <td>95.8</td>\n",
       "      <td>96.4</td>\n",
       "      <td>95.2</td>\n",
       "    </tr>\n",
       "    <tr>\n",
       "      <th>1</th>\n",
       "      <td>13/12/2023</td>\n",
       "      <td>95.2</td>\n",
       "      <td>95.2</td>\n",
       "      <td>-1.6(-1.65 %)</td>\n",
       "      <td>2148100</td>\n",
       "      <td>206460000000</td>\n",
       "      <td>2545369</td>\n",
       "      <td>263445691500</td>\n",
       "      <td>97.4</td>\n",
       "      <td>97.4</td>\n",
       "      <td>95.2</td>\n",
       "    </tr>\n",
       "    <tr>\n",
       "      <th>2</th>\n",
       "      <td>12/12/2023</td>\n",
       "      <td>96.8</td>\n",
       "      <td>96.8</td>\n",
       "      <td>1.8(1.89 %)</td>\n",
       "      <td>4084900</td>\n",
       "      <td>393398000000</td>\n",
       "      <td>1193088</td>\n",
       "      <td>120796900800</td>\n",
       "      <td>95.4</td>\n",
       "      <td>96.8</td>\n",
       "      <td>95.3</td>\n",
       "    </tr>\n",
       "    <tr>\n",
       "      <th>3</th>\n",
       "      <td>11/12/2023</td>\n",
       "      <td>95.0</td>\n",
       "      <td>95.0</td>\n",
       "      <td>0.8(0.85 %)</td>\n",
       "      <td>1564500</td>\n",
       "      <td>148856000000</td>\n",
       "      <td>257300</td>\n",
       "      <td>25910110000</td>\n",
       "      <td>95.5</td>\n",
       "      <td>95.7</td>\n",
       "      <td>94.6</td>\n",
       "    </tr>\n",
       "    <tr>\n",
       "      <th>4</th>\n",
       "      <td>08/12/2023</td>\n",
       "      <td>94.2</td>\n",
       "      <td>94.2</td>\n",
       "      <td>-0.1(-0.11 %)</td>\n",
       "      <td>1745800</td>\n",
       "      <td>164616000000</td>\n",
       "      <td>218370</td>\n",
       "      <td>21885443000</td>\n",
       "      <td>94.3</td>\n",
       "      <td>95.1</td>\n",
       "      <td>93.5</td>\n",
       "    </tr>\n",
       "  </tbody>\n",
       "</table>\n",
       "</div>"
      ],
      "text/plain": [
       "         Ngày  Giá điều chỉnh  Giá đóng cửa       Thay đổi  \\\n",
       "0  14/12/2023            96.2          96.2      1(1.05 %)   \n",
       "1  13/12/2023            95.2          95.2  -1.6(-1.65 %)   \n",
       "2  12/12/2023            96.8          96.8    1.8(1.89 %)   \n",
       "3  11/12/2023            95.0          95.0    0.8(0.85 %)   \n",
       "4  08/12/2023            94.2          94.2  -0.1(-0.11 %)   \n",
       "\n",
       "   Khối lượng khớp lệnh  Giá trị khớp lệnh  KL thoả thuận  GT thoả thuận  \\\n",
       "0               1712300       163967000000        4234467   430928431600   \n",
       "1               2148100       206460000000        2545369   263445691500   \n",
       "2               4084900       393398000000        1193088   120796900800   \n",
       "3               1564500       148856000000         257300    25910110000   \n",
       "4               1745800       164616000000         218370    21885443000   \n",
       "\n",
       "   Giá mở cửa  Giá cao nhất  Giá thấp nhất  \n",
       "0        95.8          96.4           95.2  \n",
       "1        97.4          97.4           95.2  \n",
       "2        95.4          96.8           95.3  \n",
       "3        95.5          95.7           94.6  \n",
       "4        94.3          95.1           93.5  "
      ]
     },
     "execution_count": 9,
     "metadata": {},
     "output_type": "execute_result"
    }
   ],
   "source": [
    "pd.set_option('display.max_columns', None)\n",
    "df.head()"
   ]
  },
  {
   "cell_type": "markdown",
   "id": "1de39c14-7023-41f6-917c-2c2124ce7463",
   "metadata": {},
   "source": [
    "Nhận xét : Ta thấy các dữ liệu phù hợp để xử lí tiếp"
   ]
  },
  {
   "cell_type": "markdown",
   "id": "f1c67adc-3dc1-4a95-a474-655370d6ccca",
   "metadata": {},
   "source": [
    "## 6. Với mỗi cột có kiểu dữ liệu số, các giá trị phân bố như thế nào?"
   ]
  },
  {
   "cell_type": "markdown",
   "id": "f1b1a0e2-c466-48a7-8d6c-66e8abc27340",
   "metadata": {},
   "source": [
    "Với các cột có kiểu dữ liệu số, ta sẽ tính:\n",
    "- Tỉ lệ % (từ 0 đến 100) các giá trị thiếu \n",
    "- Giá trị min\n",
    "- Giá trị lower quartile (phân vị 25)\n",
    "- Giá trị median (phân vị 50)\n",
    "- Giá trị upper quartile (phân vị 75)\n",
    "- Giá trị max\n",
    "\n",
    "Ta sẽ lưu kết quả vào DataFrame `num_col_info_df`, trong đó: \n",
    "- Tên của các cột là tên của các cột số trong `df`\n",
    "- Tên của các dòng là: \"missing_ratio\", \"min\", \"lower_quartile\", \"median\", \"upper_quartile\", \"max\"  "
   ]
  },
  {
   "cell_type": "code",
   "execution_count": 10,
   "id": "42b055d2-354b-41c7-b928-d13132b536b2",
   "metadata": {
    "tags": []
   },
   "outputs": [],
   "source": [
    "data = {\n",
    "    \"row_name\" : [\"missing_ratio\", \"min\", \"lower_quartile\", \"median\", \"upper_quartile\", \"max\"]\n",
    "}\n",
    "col_name = []\n",
    "for i in df.columns:\n",
    "    if (df[i].dtypes == 'float64') or (df[i].dtypes == 'int64'):\n",
    "        col_name.append(i)\n",
    "\n",
    "for i in col_name:\n",
    "    _data = []\n",
    "    missing_data = df[i].isna().sum()\n",
    "    _data.append((missing_data / len(df[i]) * 100).round(1))\n",
    "    _data.append(df[i].min())\n",
    "    percentile = df[i].quantile([0.25,0.5,0.75])\n",
    "    _data.append(percentile[0.25])\n",
    "    _data.append(percentile[0.5])\n",
    "    _data.append(percentile[0.75])\n",
    "    _data.append(df[i].max())\n",
    "    data[i] = _data\n",
    "num_col_info_df = pd.DataFrame(data).set_index('row_name')"
   ]
  },
  {
   "cell_type": "code",
   "execution_count": 11,
   "id": "ef830cbc-d448-4ec3-8ca7-8d30fd04df81",
   "metadata": {
    "tags": []
   },
   "outputs": [
    {
     "data": {
      "text/html": [
       "<div>\n",
       "<style scoped>\n",
       "    .dataframe tbody tr th:only-of-type {\n",
       "        vertical-align: middle;\n",
       "    }\n",
       "\n",
       "    .dataframe tbody tr th {\n",
       "        vertical-align: top;\n",
       "    }\n",
       "\n",
       "    .dataframe thead th {\n",
       "        text-align: right;\n",
       "    }\n",
       "</style>\n",
       "<table border=\"1\" class=\"dataframe\">\n",
       "  <thead>\n",
       "    <tr style=\"text-align: right;\">\n",
       "      <th></th>\n",
       "      <th>Giá điều chỉnh</th>\n",
       "      <th>Giá đóng cửa</th>\n",
       "      <th>Khối lượng khớp lệnh</th>\n",
       "      <th>Giá trị khớp lệnh</th>\n",
       "      <th>KL thoả thuận</th>\n",
       "      <th>GT thoả thuận</th>\n",
       "      <th>Giá mở cửa</th>\n",
       "      <th>Giá cao nhất</th>\n",
       "      <th>Giá thấp nhất</th>\n",
       "    </tr>\n",
       "    <tr>\n",
       "      <th>row_name</th>\n",
       "      <th></th>\n",
       "      <th></th>\n",
       "      <th></th>\n",
       "      <th></th>\n",
       "      <th></th>\n",
       "      <th></th>\n",
       "      <th></th>\n",
       "      <th></th>\n",
       "      <th></th>\n",
       "    </tr>\n",
       "  </thead>\n",
       "  <tbody>\n",
       "    <tr>\n",
       "      <th>missing_ratio</th>\n",
       "      <td>0.00</td>\n",
       "      <td>0.0000</td>\n",
       "      <td>0.0</td>\n",
       "      <td>0.000000e+00</td>\n",
       "      <td>0.0</td>\n",
       "      <td>0.000000e+00</td>\n",
       "      <td>0.00</td>\n",
       "      <td>0.00</td>\n",
       "      <td>0.0</td>\n",
       "    </tr>\n",
       "    <tr>\n",
       "      <th>min</th>\n",
       "      <td>13.06</td>\n",
       "      <td>38.8000</td>\n",
       "      <td>141480.0</td>\n",
       "      <td>6.016000e+09</td>\n",
       "      <td>0.0</td>\n",
       "      <td>0.000000e+00</td>\n",
       "      <td>38.80</td>\n",
       "      <td>39.65</td>\n",
       "      <td>38.5</td>\n",
       "    </tr>\n",
       "    <tr>\n",
       "      <th>lower_quartile</th>\n",
       "      <td>19.98</td>\n",
       "      <td>47.5875</td>\n",
       "      <td>838860.0</td>\n",
       "      <td>4.671875e+10</td>\n",
       "      <td>0.0</td>\n",
       "      <td>0.000000e+00</td>\n",
       "      <td>47.50</td>\n",
       "      <td>48.00</td>\n",
       "      <td>47.2</td>\n",
       "    </tr>\n",
       "    <tr>\n",
       "      <th>median</th>\n",
       "      <td>28.43</td>\n",
       "      <td>57.6000</td>\n",
       "      <td>1328310.0</td>\n",
       "      <td>8.463600e+10</td>\n",
       "      <td>70450.0</td>\n",
       "      <td>4.463660e+09</td>\n",
       "      <td>57.65</td>\n",
       "      <td>58.15</td>\n",
       "      <td>57.1</td>\n",
       "    </tr>\n",
       "    <tr>\n",
       "      <th>upper_quartile</th>\n",
       "      <td>65.88</td>\n",
       "      <td>83.8250</td>\n",
       "      <td>2100985.0</td>\n",
       "      <td>1.491398e+11</td>\n",
       "      <td>424745.0</td>\n",
       "      <td>3.224118e+10</td>\n",
       "      <td>84.00</td>\n",
       "      <td>84.60</td>\n",
       "      <td>83.1</td>\n",
       "    </tr>\n",
       "    <tr>\n",
       "      <th>max</th>\n",
       "      <td>99.00</td>\n",
       "      <td>116.6000</td>\n",
       "      <td>8399400.0</td>\n",
       "      <td>8.469180e+11</td>\n",
       "      <td>9349360.0</td>\n",
       "      <td>1.016416e+12</td>\n",
       "      <td>116.50</td>\n",
       "      <td>118.90</td>\n",
       "      <td>115.2</td>\n",
       "    </tr>\n",
       "  </tbody>\n",
       "</table>\n",
       "</div>"
      ],
      "text/plain": [
       "                Giá điều chỉnh  Giá đóng cửa  Khối lượng khớp lệnh  \\\n",
       "row_name                                                             \n",
       "missing_ratio             0.00        0.0000                   0.0   \n",
       "min                      13.06       38.8000              141480.0   \n",
       "lower_quartile           19.98       47.5875              838860.0   \n",
       "median                   28.43       57.6000             1328310.0   \n",
       "upper_quartile           65.88       83.8250             2100985.0   \n",
       "max                      99.00      116.6000             8399400.0   \n",
       "\n",
       "                Giá trị khớp lệnh  KL thoả thuận  GT thoả thuận  Giá mở cửa  \\\n",
       "row_name                                                                      \n",
       "missing_ratio        0.000000e+00            0.0   0.000000e+00        0.00   \n",
       "min                  6.016000e+09            0.0   0.000000e+00       38.80   \n",
       "lower_quartile       4.671875e+10            0.0   0.000000e+00       47.50   \n",
       "median               8.463600e+10        70450.0   4.463660e+09       57.65   \n",
       "upper_quartile       1.491398e+11       424745.0   3.224118e+10       84.00   \n",
       "max                  8.469180e+11      9349360.0   1.016416e+12      116.50   \n",
       "\n",
       "                Giá cao nhất  Giá thấp nhất  \n",
       "row_name                                     \n",
       "missing_ratio           0.00            0.0  \n",
       "min                    39.65           38.5  \n",
       "lower_quartile         48.00           47.2  \n",
       "median                 58.15           57.1  \n",
       "upper_quartile         84.60           83.1  \n",
       "max                   118.90          115.2  "
      ]
     },
     "execution_count": 11,
     "metadata": {},
     "output_type": "execute_result"
    }
   ],
   "source": [
    "num_col_info_df"
   ]
  },
  {
   "cell_type": "markdown",
   "id": "7353e215-cda1-4948-b37e-980078755980",
   "metadata": {},
   "source": [
    "## 7. Với mỗi cột có kiểu dữ liệu không phải dạng số, các giá trị được phân bố như thế nào?"
   ]
  },
  {
   "cell_type": "markdown",
   "id": "78a0d9f3-0c56-4486-8e6d-9abdcf6b28a8",
   "metadata": {},
   "source": [
    "Thực hiện thống kê và lưu vào một dataframe với các dòng là đại diện cho các giá trị như sau:\n",
    "- Tỉ lệ % (từ 0 đến 100) các giá trị thiếu (missing_ratio).\n",
    "- Số lượng các giá trị khác nhau (không xét giá trị thiếu) (num_values).\n",
    "- Tỉ lệ % (từ 0 đến 100) của mỗi giá trị được sort theo tỉ lệ % giảm dần (không xét giá trị thiếu, tỉ lệ là tỉ lệ so với số lượng các giá trị không thiếu): dùng dictionary để lưu, key là giá trị, value là tỉ lệ % (value_ratios)."
   ]
  },
  {
   "cell_type": "code",
   "execution_count": 15,
   "id": "9fdce838-e0ab-45a4-9f7f-2a23b1c226d5",
   "metadata": {
    "tags": []
   },
   "outputs": [],
   "source": [
    "categorical_df=df.select_dtypes(exclude=['int64','float64','datetime64'])\n",
    "data = {\n",
    "    \"row_name\" : [\"missing_ratio\", \"num_values\", \"value_ratios\"]\n",
    "}\n",
    "col_names = list(categorical_df.columns)\n",
    "for i in col_names:\n",
    "    _data = []\n",
    "\n",
    "    #Tính missing ratio\n",
    "    missing_ratio = (categorical_df[i].isna().sum())/len(df[i]) * 100\n",
    "    _data.append(missing_ratio)\n",
    "\n",
    "    #Tính số lượng giá trị khác nhau\n",
    "    num_values = categorical_df[i].dropna().nunique()\n",
    "    _data.append(num_values)\n",
    "\n",
    "    #Tính tỉ lệ của các giá trị\n",
    "    dict_value_ratios ={}\n",
    "    values = categorical_df[i].value_counts(normalize=True,sort=True)\n",
    "    name_values = list(values.index)\n",
    "    for k in range(len(name_values)):\n",
    "        dict_value_ratios[name_values[k]] = round(values[k]*100,1)\n",
    "    _data.append(dict_value_ratios)\n",
    "    \n",
    "    data[i] = _data\n",
    "\n",
    "cat_col_info_df = pd.DataFrame(data).set_index('row_name')\n"
   ]
  },
  {
   "cell_type": "code",
   "execution_count": 16,
   "id": "10495f6f-7db2-483e-adda-8e22a057f526",
   "metadata": {
    "tags": []
   },
   "outputs": [
    {
     "data": {
      "text/html": [
       "<div>\n",
       "<style scoped>\n",
       "    .dataframe tbody tr th:only-of-type {\n",
       "        vertical-align: middle;\n",
       "    }\n",
       "\n",
       "    .dataframe tbody tr th {\n",
       "        vertical-align: top;\n",
       "    }\n",
       "\n",
       "    .dataframe thead th {\n",
       "        text-align: right;\n",
       "    }\n",
       "</style>\n",
       "<table border=\"1\" class=\"dataframe\">\n",
       "  <thead>\n",
       "    <tr style=\"text-align: right;\">\n",
       "      <th></th>\n",
       "      <th>Ngày</th>\n",
       "      <th>Thay đổi</th>\n",
       "    </tr>\n",
       "    <tr>\n",
       "      <th>row_name</th>\n",
       "      <th></th>\n",
       "      <th></th>\n",
       "    </tr>\n",
       "  </thead>\n",
       "  <tbody>\n",
       "    <tr>\n",
       "      <th>missing_ratio</th>\n",
       "      <td>0.0</td>\n",
       "      <td>0.0</td>\n",
       "    </tr>\n",
       "    <tr>\n",
       "      <th>num_values</th>\n",
       "      <td>1736</td>\n",
       "      <td>1044</td>\n",
       "    </tr>\n",
       "    <tr>\n",
       "      <th>value_ratios</th>\n",
       "      <td>{'14/12/2023': 0.1, '13/05/2019': 0.1, '23/04/...</td>\n",
       "      <td>{'0(0.00 %)': 6.8, '0.1(0.21 %)': 0.7, '-0.05(...</td>\n",
       "    </tr>\n",
       "  </tbody>\n",
       "</table>\n",
       "</div>"
      ],
      "text/plain": [
       "                                                            Ngày  \\\n",
       "row_name                                                           \n",
       "missing_ratio                                                0.0   \n",
       "num_values                                                  1736   \n",
       "value_ratios   {'14/12/2023': 0.1, '13/05/2019': 0.1, '23/04/...   \n",
       "\n",
       "                                                        Thay đổi  \n",
       "row_name                                                          \n",
       "missing_ratio                                                0.0  \n",
       "num_values                                                  1044  \n",
       "value_ratios   {'0(0.00 %)': 6.8, '0.1(0.21 %)': 0.7, '-0.05(...  "
      ]
     },
     "execution_count": 16,
     "metadata": {},
     "output_type": "execute_result"
    }
   ],
   "source": [
    "cat_col_info_df"
   ]
  },
  {
   "cell_type": "code",
   "execution_count": 17,
   "id": "47eba9f2-041e-43e2-a2a1-ed8444fa51fc",
   "metadata": {
    "tags": []
   },
   "outputs": [
    {
     "data": {
      "text/html": [
       "<div>\n",
       "<style scoped>\n",
       "    .dataframe tbody tr th:only-of-type {\n",
       "        vertical-align: middle;\n",
       "    }\n",
       "\n",
       "    .dataframe tbody tr th {\n",
       "        vertical-align: top;\n",
       "    }\n",
       "\n",
       "    .dataframe thead th {\n",
       "        text-align: right;\n",
       "    }\n",
       "</style>\n",
       "<table border=\"1\" class=\"dataframe\">\n",
       "  <thead>\n",
       "    <tr style=\"text-align: right;\">\n",
       "      <th></th>\n",
       "      <th>Ngày</th>\n",
       "      <th>Giá điều chỉnh</th>\n",
       "      <th>Giá đóng cửa</th>\n",
       "      <th>Thay đổi</th>\n",
       "      <th>Khối lượng khớp lệnh</th>\n",
       "      <th>Giá trị khớp lệnh</th>\n",
       "      <th>KL thoả thuận</th>\n",
       "      <th>GT thoả thuận</th>\n",
       "      <th>Giá mở cửa</th>\n",
       "      <th>Giá cao nhất</th>\n",
       "      <th>Giá thấp nhất</th>\n",
       "    </tr>\n",
       "  </thead>\n",
       "  <tbody>\n",
       "    <tr>\n",
       "      <th>0</th>\n",
       "      <td>14/12/2023</td>\n",
       "      <td>96.2</td>\n",
       "      <td>96.2</td>\n",
       "      <td>1(1.05 %)</td>\n",
       "      <td>1712300</td>\n",
       "      <td>163967000000</td>\n",
       "      <td>4234467</td>\n",
       "      <td>430928431600</td>\n",
       "      <td>95.8</td>\n",
       "      <td>96.4</td>\n",
       "      <td>95.2</td>\n",
       "    </tr>\n",
       "    <tr>\n",
       "      <th>1</th>\n",
       "      <td>13/12/2023</td>\n",
       "      <td>95.2</td>\n",
       "      <td>95.2</td>\n",
       "      <td>-1.6(-1.65 %)</td>\n",
       "      <td>2148100</td>\n",
       "      <td>206460000000</td>\n",
       "      <td>2545369</td>\n",
       "      <td>263445691500</td>\n",
       "      <td>97.4</td>\n",
       "      <td>97.4</td>\n",
       "      <td>95.2</td>\n",
       "    </tr>\n",
       "    <tr>\n",
       "      <th>2</th>\n",
       "      <td>12/12/2023</td>\n",
       "      <td>96.8</td>\n",
       "      <td>96.8</td>\n",
       "      <td>1.8(1.89 %)</td>\n",
       "      <td>4084900</td>\n",
       "      <td>393398000000</td>\n",
       "      <td>1193088</td>\n",
       "      <td>120796900800</td>\n",
       "      <td>95.4</td>\n",
       "      <td>96.8</td>\n",
       "      <td>95.3</td>\n",
       "    </tr>\n",
       "    <tr>\n",
       "      <th>3</th>\n",
       "      <td>11/12/2023</td>\n",
       "      <td>95.0</td>\n",
       "      <td>95.0</td>\n",
       "      <td>0.8(0.85 %)</td>\n",
       "      <td>1564500</td>\n",
       "      <td>148856000000</td>\n",
       "      <td>257300</td>\n",
       "      <td>25910110000</td>\n",
       "      <td>95.5</td>\n",
       "      <td>95.7</td>\n",
       "      <td>94.6</td>\n",
       "    </tr>\n",
       "    <tr>\n",
       "      <th>4</th>\n",
       "      <td>08/12/2023</td>\n",
       "      <td>94.2</td>\n",
       "      <td>94.2</td>\n",
       "      <td>-0.1(-0.11 %)</td>\n",
       "      <td>1745800</td>\n",
       "      <td>164616000000</td>\n",
       "      <td>218370</td>\n",
       "      <td>21885443000</td>\n",
       "      <td>94.3</td>\n",
       "      <td>95.1</td>\n",
       "      <td>93.5</td>\n",
       "    </tr>\n",
       "  </tbody>\n",
       "</table>\n",
       "</div>"
      ],
      "text/plain": [
       "         Ngày  Giá điều chỉnh  Giá đóng cửa       Thay đổi  \\\n",
       "0  14/12/2023            96.2          96.2      1(1.05 %)   \n",
       "1  13/12/2023            95.2          95.2  -1.6(-1.65 %)   \n",
       "2  12/12/2023            96.8          96.8    1.8(1.89 %)   \n",
       "3  11/12/2023            95.0          95.0    0.8(0.85 %)   \n",
       "4  08/12/2023            94.2          94.2  -0.1(-0.11 %)   \n",
       "\n",
       "   Khối lượng khớp lệnh  Giá trị khớp lệnh  KL thoả thuận  GT thoả thuận  \\\n",
       "0               1712300       163967000000        4234467   430928431600   \n",
       "1               2148100       206460000000        2545369   263445691500   \n",
       "2               4084900       393398000000        1193088   120796900800   \n",
       "3               1564500       148856000000         257300    25910110000   \n",
       "4               1745800       164616000000         218370    21885443000   \n",
       "\n",
       "   Giá mở cửa  Giá cao nhất  Giá thấp nhất  \n",
       "0        95.8          96.4           95.2  \n",
       "1        97.4          97.4           95.2  \n",
       "2        95.4          96.8           95.3  \n",
       "3        95.5          95.7           94.6  \n",
       "4        94.3          95.1           93.5  "
      ]
     },
     "execution_count": 17,
     "metadata": {},
     "output_type": "execute_result"
    }
   ],
   "source": [
    "df.head()"
   ]
  },
  {
   "cell_type": "code",
   "execution_count": null,
   "id": "5da86259-f48c-45e3-a228-260d92a3e8cd",
   "metadata": {},
   "outputs": [],
   "source": []
  }
 ],
 "metadata": {
  "kernelspec": {
   "display_name": "Python 3 (ipykernel)",
   "language": "python",
   "name": "python3"
  },
  "language_info": {
   "codemirror_mode": {
    "name": "ipython",
    "version": 3
   },
   "file_extension": ".py",
   "mimetype": "text/x-python",
   "name": "python",
   "nbconvert_exporter": "python",
   "pygments_lexer": "ipython3",
   "version": "3.11.5"
  }
 },
 "nbformat": 4,
 "nbformat_minor": 5
}
