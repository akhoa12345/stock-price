{
 "cells": [
  {
   "cell_type": "markdown",
   "id": "4ae3b784-6f22-42d6-a241-19640c22f227",
   "metadata": {},
   "source": [
    "<div style=\"font-family: Arial, Helvetica, sans-serif;\">\n",
    "        <div style=\"font-weight:600; text-align: center; padding-top: 20px;\">TRƯỜNG ĐẠI HỌC KHOA HỌC TỰ NHIÊN - ĐẠI HỌC\n",
    "            QUỐC GIA THÀNH PHỐ HỒ\n",
    "            CHÍ\n",
    "            MINH</div>\n",
    "        <div style=\"font-size: 26px ;font-weight: 700; text-align: center;padding-top: 20px;\">ĐỒ ÁN THỰC HÀNH CUỐI KỲ\n",
    "        </div>\n",
    "        <div style=\"display: flex;\">\n",
    "            <div style=\"font-weight: 600; padding-right: 10px;\">Môn học: </div>\n",
    "            <div>Nhập môn khoa học dữ liệu</div>\n",
    "        </div>\n",
    "        <div style=\"display: flex;\">\n",
    "            <div style=\"font-weight: 600; padding-right: 10px;\">Lớp: </div>\n",
    "            <div>21_21</div>\n",
    "        </div>\n",
    "        <div style=\"display: flex;\">\n",
    "            <div style=\"font-weight: 600; padding-right: 10px;\">Chủ đề: </div>\n",
    "            <div>Chưa biết</div>\n",
    "        </div>\n",
    "        <div style=\"display: flex;\">\n",
    "            <div style=\"font-weight: 600; padding-right: 10px;\">Nhóm: </div>\n",
    "            <div>0x</div>\n",
    "        </div>\n",
    "        <div>\n",
    "            <h1>Thành viên trong nhóm</h1>\n",
    "            <table style=\"font-size: 18px; display:flex;\" >\n",
    "                <tr>\n",
    "                    <th>STT</th>\n",
    "                    <th>MSSV</th>\n",
    "                    <th>Họ và tên</th>\n",
    "                </tr>\n",
    "                <tr>\n",
    "                    <td>1</td>\n",
    "                    <td>19120548 </td>\n",
    "                    <td style=\"text-align:left;\">Phùng Anh Khoa\t</td>\n",
    "                </tr>\n",
    "                <tr>\n",
    "                    <td>2</td>\n",
    "                    <td>1712721</td>\n",
    "                    <td style=\"text-align:left;\">Nguyễn Thành Sang</td>\n",
    "                </tr>\n",
    "                <tr>\n",
    "                    <td>3</td>\n",
    "                    <td>21120070</td>\n",
    "                    <td style=\"text-align:left;\">Nhan Hữu Hiếu</td>\n",
    "                </tr>\n",
    "                <tr>\n",
    "                    <td>4</td>\n",
    "                    <td>21120546</td>\n",
    "                    <td style=\"text-align:left;\">Nguyễn Thanh Sang</td>\n",
    "                </tr>\n",
    "            </table>\n",
    "        </div>\n",
    "</div>"
   ]
  },
  {
   "cell_type": "markdown",
   "id": "841ef78a-524a-4ac3-bbb8-1e012f818eec",
   "metadata": {},
   "source": [
    "# A. Thu thập dữ liệu"
   ]
  },
  {
   "cell_type": "markdown",
   "id": "ec929d83-7efd-44ce-a4ca-8e0b3c4942b9",
   "metadata": {},
   "source": [
    "Import các thư viện cần thiết"
   ]
  },
  {
   "cell_type": "code",
   "execution_count": 2,
   "id": "16badeba-31e0-4ba1-a7c9-1170f3b3ea20",
   "metadata": {
    "tags": []
   },
   "outputs": [],
   "source": [
    "import requests\n",
    "from bs4 import BeautifulSoup\n",
    "import pandas as pd\n",
    "import json\n"
   ]
  },
  {
   "cell_type": "code",
   "execution_count": 4,
   "id": "f6d9350a-fe3c-43b8-a1c0-dabccf6f83f4",
   "metadata": {
    "tags": []
   },
   "outputs": [],
   "source": [
    "s='01/01/2017'\n",
    "e='14/12/2023'\n",
    "def date_modify(start,end):\n",
    "    temp=start.split('/')\n",
    "    date=temp[0]\n",
    "    month=temp[1]\n",
    "    year=temp[2]\n",
    "    start=month+'/'+date+'/'+year\n",
    "    temp=end.split('/')\n",
    "    date=temp[0]\n",
    "    month=temp[1]\n",
    "    year=temp[2]\n",
    "    end=month+'/'+date+'/'+year\n",
    "    return start,end\n",
    "        \n",
    "def collect(start,end,stock_code):\n",
    "    Ngay=[]\n",
    "    GiaDieuChinh=[]\n",
    "    GiaDongCua=[]\n",
    "    ThayDoi=[]\n",
    "    KhoiLuongKhopLenh=[]\n",
    "    GiaTriKhopLenh=[]\n",
    "    KLThoaThuan=[]\n",
    "    GtThoaThuan=[]\n",
    "    GiaMoCua=[]\n",
    "    GiaCaoNhat=[]\n",
    "    GiaThapNhat=[]\n",
    "    start,end=date_modify(start,end)\n",
    "    for i in range(1,1000000):\n",
    "        _url='https://s.cafef.vn/Ajax/PageNew/DataHistory/PriceHistory.ashx?Symbol='+stock_code+'&StartDate='+start+'&EndDate='+end+'&PageIndex='+str(i)+'&PageSize=500'\n",
    "        table=requests.get(_url)\n",
    "        dates=json.loads(table.text)\n",
    "        if len(dates['Data']['Data'])==0:\n",
    "            break\n",
    "        for date in dates['Data']['Data']:\n",
    "            Ngay.append(date['Ngay'])\n",
    "            GiaDieuChinh.append(date['GiaDieuChinh'])\n",
    "            GiaDongCua.append(date['GiaDongCua'])\n",
    "            ThayDoi.append(date['ThayDoi'])\n",
    "            KhoiLuongKhopLenh.append(date['KhoiLuongKhopLenh'])\n",
    "            GiaTriKhopLenh.append(date['GiaTriKhopLenh'])\n",
    "            KLThoaThuan.append(date['KLThoaThuan'])\n",
    "            GtThoaThuan.append(date['GtThoaThuan'])\n",
    "            GiaMoCua.append(date['GiaMoCua'])\n",
    "            GiaCaoNhat.append(date['GiaCaoNhat'])\n",
    "            GiaThapNhat.append(date['GiaThapNhat'])\n",
    "\n",
    "    data=pd.DataFrame({'Ngày': Ngay,\n",
    "                      'Giá điều chỉnh': GiaDieuChinh,\n",
    "                      'Giá đóng cửa': GiaDongCua,\n",
    "                      'Thay đổi': ThayDoi,\n",
    "                      'Khối lượng khớp lệnh': KhoiLuongKhopLenh,\n",
    "                      'Giá trị khớp lệnh': GiaTriKhopLenh,\n",
    "                      'KL thoả thuận': KLThoaThuan,\n",
    "                      'GT thoả thuận': GtThoaThuan,\n",
    "                      'Giá mở cửa': GiaMoCua,\n",
    "                      'Giá cao nhất': GiaCaoNhat,\n",
    "                      'Giá thấp nhất': GiaThapNhat}\n",
    "                       )\n",
    "    return data\n",
    "\n",
    "out=collect(s,e,'FPT')\n",
    "\n",
    "csv_file_path = 'data.csv'\n",
    "\n",
    "# Ghi DataFrame vào tệp CSV\n",
    "out.to_csv(csv_file_path, index=False)"
   ]
  },
  {
   "cell_type": "code",
   "execution_count": 5,
   "id": "640c3097-eb7a-4127-afe2-a21dce43cf3e",
   "metadata": {
    "tags": []
   },
   "outputs": [
    {
     "name": "stdout",
     "output_type": "stream",
     "text": [
      "<class 'pandas.core.frame.DataFrame'>\n",
      "RangeIndex: 1736 entries, 0 to 1735\n",
      "Data columns (total 11 columns):\n",
      " #   Column                Non-Null Count  Dtype  \n",
      "---  ------                --------------  -----  \n",
      " 0   Ngày                  1736 non-null   object \n",
      " 1   Giá điều chỉnh        1736 non-null   float64\n",
      " 2   Giá đóng cửa          1736 non-null   float64\n",
      " 3   Thay đổi              1736 non-null   object \n",
      " 4   Khối lượng khớp lệnh  1736 non-null   int64  \n",
      " 5   Giá trị khớp lệnh     1736 non-null   int64  \n",
      " 6   KL thoả thuận         1736 non-null   int64  \n",
      " 7   GT thoả thuận         1736 non-null   int64  \n",
      " 8   Giá mở cửa            1736 non-null   float64\n",
      " 9   Giá cao nhất          1736 non-null   float64\n",
      " 10  Giá thấp nhất         1736 non-null   float64\n",
      "dtypes: float64(5), int64(4), object(2)\n",
      "memory usage: 149.3+ KB\n"
     ]
    }
   ],
   "source": [
    "out.info()"
   ]
  },
  {
   "cell_type": "markdown",
   "id": "2ffe96a4-721f-4054-97be-8b9ace111a02",
   "metadata": {},
   "source": [
    "Kiểm tra, đối chiếu dữ liệu có thỏa mãn với yêu cầu của đồ án hay không?"
   ]
  },
  {
   "cell_type": "code",
   "execution_count": 6,
   "id": "3409b822-f228-4d27-8038-b025ef11c9f6",
   "metadata": {
    "tags": []
   },
   "outputs": [
    {
     "name": "stdout",
     "output_type": "stream",
     "text": [
      "Accepted data!\n"
     ]
    }
   ],
   "source": [
    "def assertData():\n",
    "    df = pd.read_csv('data.csv')\n",
    "    try:\n",
    "        assert len(df.index) >= 1000\n",
    "    except:\n",
    "        print(\"Data doesn't have at least 1000 rows\")\n",
    "\n",
    "    try:\n",
    "        assert len(df.columns) >= 5\n",
    "    except:\n",
    "        print(\"Data doesn't have at least 5 columns\")\n",
    "    \n",
    "    print(\"Accepted data!\")\n",
    "\n",
    "assertData()"
   ]
  },
  {
   "cell_type": "code",
   "execution_count": null,
   "id": "7df49133-8710-4bd1-ab73-9a62d3eb4065",
   "metadata": {},
   "outputs": [],
   "source": []
  }
 ],
 "metadata": {
  "kernelspec": {
   "display_name": "Python 3 (ipykernel)",
   "language": "python",
   "name": "python3"
  },
  "language_info": {
   "codemirror_mode": {
    "name": "ipython",
    "version": 3
   },
   "file_extension": ".py",
   "mimetype": "text/x-python",
   "name": "python",
   "nbconvert_exporter": "python",
   "pygments_lexer": "ipython3",
   "version": "3.11.5"
  }
 },
 "nbformat": 4,
 "nbformat_minor": 5
}
